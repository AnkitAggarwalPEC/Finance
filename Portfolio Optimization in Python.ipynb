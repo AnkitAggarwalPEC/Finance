{
 "cells": [
  {
   "cell_type": "code",
   "execution_count": 21,
   "metadata": {},
   "outputs": [],
   "source": [
    "#Portfolio Optimization in Python\n",
    "import pandas as pd\n",
    "import numpy as np\n",
    "import matplotlib.pyplot as plt\n",
    "import pandas_datareader as web"
   ]
  },
  {
   "cell_type": "code",
   "execution_count": 22,
   "metadata": {},
   "outputs": [],
   "source": [
    "#Next we will get the stock tickers and the price data.\n",
    "tick = ['AMZN', 'AAPL', 'NFLX', 'XOM', 'T']\n",
    "price_data = web.get_data_yahoo(tick,\n",
    "                           start = '2015-01-01',\n",
    "                           end = '2020-05-31')['Adj Close']\n",
    "#Now lets calculate the log returns.\n",
    "\n",
    "log_ret = np.log(price_data/price_data.shift(1))"
   ]
  },
  {
   "cell_type": "code",
   "execution_count": 23,
   "metadata": {},
   "outputs": [
    {
     "name": "stdout",
     "output_type": "stream",
     "text": [
      "Symbols      AMZN      AAPL      NFLX       XOM         T\n",
      "Symbols                                                  \n",
      "AMZN     0.091456  0.046060  0.066757  0.024769  0.018145\n",
      "AAPL     0.046060  0.081287  0.049601  0.034960  0.026699\n",
      "NFLX     0.066757  0.049601  0.177147  0.025468  0.018148\n",
      "XOM      0.024769  0.034960  0.025468  0.064806  0.028608\n",
      "T        0.018145  0.026699  0.018148  0.028608  0.049008\n"
     ]
    }
   ],
   "source": [
    "#Next we will calculate the covariance matrix.\n",
    "cov_mat = log_ret.cov() * 252\n",
    "print(cov_mat)"
   ]
  },
  {
   "cell_type": "code",
   "execution_count": 24,
   "metadata": {},
   "outputs": [],
   "source": [
    "#Next we will jump right into the for loop and simulate the portfolio returns and risk on 5000 random portfolios. If you need the further explanation, please see the code in R.\n",
    "\n",
    "# Simulating 5000 portfolios\n",
    "num_port = 5000\n",
    "# Creating an empty array to store portfolio weights\n",
    "all_wts = np.zeros((num_port, len(price_data.columns)))\n",
    "# Creating an empty array to store portfolio returns\n",
    "port_returns = np.zeros((num_port))\n",
    "# Creating an empty array to store portfolio risks\n",
    "port_risk = np.zeros((num_port))\n",
    "# Creating an empty array to store portfolio sharpe ratio\n",
    "sharpe_ratio = np.zeros((num_port))"
   ]
  },
  {
   "cell_type": "code",
   "execution_count": 25,
   "metadata": {},
   "outputs": [],
   "source": [
    "#Lets run the for loop.\n",
    "\n",
    "for i in range(num_port):\n",
    "  wts = np.random.uniform(size = len(price_data.columns))\n",
    "  wts = wts/np.sum(wts)\n",
    "  \n",
    "  # saving weights in the array\n",
    "  \n",
    "  all_wts[i,:] = wts\n",
    "  \n",
    "  # Portfolio Returns\n",
    "  \n",
    "  port_ret = np.sum(log_ret.mean() * wts)\n",
    "  port_ret = (port_ret + 1) ** 252 - 1\n",
    "  \n",
    "  # Saving Portfolio returns\n",
    "  \n",
    "  port_returns[i] = port_ret\n",
    "  \n",
    "  \n",
    "  # Portfolio Risk\n",
    "  \n",
    "  port_sd = np.sqrt(np.dot(wts.T, np.dot(cov_mat, wts)))\n",
    "  \n",
    "  port_risk[i] = port_sd\n",
    "  \n",
    "  # Portfolio Sharpe Ratio\n",
    "  # Assuming 0% Risk Free Rate\n",
    "\n",
    "  sr = port_ret / port_sd\n",
    "  sharpe_ratio[i] = sr"
   ]
  },
  {
   "cell_type": "code",
   "execution_count": 26,
   "metadata": {},
   "outputs": [
    {
     "name": "stdout",
     "output_type": "stream",
     "text": [
      "[0.23141022 0.04560169 0.01565812 0.22193152 0.48539845]\n"
     ]
    }
   ],
   "source": [
    "#Now that all the heavy lifting has been done. We will start by getting the minimum variance portfolio and the tangency portfolio.\n",
    "names = price_data.columns\n",
    "min_var = all_wts[port_risk.argmin()]\n",
    "print(min_var)"
   ]
  },
  {
   "cell_type": "code",
   "execution_count": 27,
   "metadata": {},
   "outputs": [
    {
     "name": "stdout",
     "output_type": "stream",
     "text": [
      "[0.59355208 0.08066634 0.29050751 0.0032449  0.03202916]\n"
     ]
    }
   ],
   "source": [
    "max_sr = all_wts[sharpe_ratio.argmax()]\n",
    "print(max_sr)"
   ]
  },
  {
   "cell_type": "code",
   "execution_count": 28,
   "metadata": {},
   "outputs": [
    {
     "name": "stdout",
     "output_type": "stream",
     "text": [
      "0.19105549056511162\n"
     ]
    }
   ],
   "source": [
    "#Lets see the max sharpe ratio and the minimum risk for these portfoliosprint(sharpe_ratio.max())\n",
    "print(port_risk.min())"
   ]
  },
  {
   "cell_type": "markdown",
   "metadata": {},
   "source": [
    "Since we are only simulating 5000 portfolio, it very likely our allocations and our sharpe ratios/risk metrics will be different than what we got on the last post in R. The point of this exercise is to demonstrate the underlying process of getting optimal portfolio. If we need more accuracy then we need to use optimization packages instead of this trial and error method described in this post.\n",
    "\n",
    "Now lets visualize the weights of the portfolio. First we will visualize the minimum variance portfolio."
   ]
  },
  {
   "cell_type": "code",
   "execution_count": 29,
   "metadata": {},
   "outputs": [
    {
     "data": {
      "image/png": "[encoded data removed]",
      "text/plain": [
       "<Figure size 432x288 with 1 Axes>"
      ]
     },
     "metadata": {
      "needs_background": "light"
     },
     "output_type": "display_data"
    }
   ],
   "source": [
    "min_var = pd.Series(min_var, index=names)\n",
    "min_var = min_var.sort_values()\n",
    "fig = plt.figure()\n",
    "ax1 = fig.add_axes([0.1,0.1,0.8,0.8])\n",
    "ax1.set_xlabel('Asset')\n",
    "ax1.set_ylabel(\"Weights\")\n",
    "ax1.set_title(\"Minimum Variance Portfolio weights\")\n",
    "min_var.plot(kind = 'bar')\n",
    "plt.show()"
   ]
  },
  {
   "cell_type": "code",
   "execution_count": 30,
   "metadata": {},
   "outputs": [
    {
     "data": {
      "image/png": "[encoded data removed]",
      "text/plain": [
       "<Figure size 432x288 with 1 Axes>"
      ]
     },
     "metadata": {
      "needs_background": "light"
     },
     "output_type": "display_data"
    }
   ],
   "source": [
    "#Next we will visualize the max sharpe ratio portfolio.\n",
    "max_sr = pd.Series(max_sr, index=names)\n",
    "max_sr = max_sr.sort_values()\n",
    "fig = plt.figure()\n",
    "ax1 = fig.add_axes([0.1,0.1,0.8,0.8])\n",
    "ax1.set_xlabel('Asset')\n",
    "ax1.set_ylabel(\"Weights\")\n",
    "ax1.set_title(\"Tangency Portfolio weights\")\n",
    "max_sr.plot(kind = 'bar')\n",
    "plt.show()"
   ]
  },
  {
   "cell_type": "code",
   "execution_count": 31,
   "metadata": {},
   "outputs": [
    {
     "data": {
      "image/png": "[encoded data removed]",
      "text/plain": [
       "<Figure size 432x288 with 1 Axes>"
      ]
     },
     "metadata": {
      "needs_background": "light"
     },
     "output_type": "display_data"
    }
   ],
   "source": [
    "#Finally we can plot all the 5000 portfolios.\n",
    "fig = plt.figure()\n",
    "ax1 = fig.add_axes([0.1,0.1,0.8,0.8])\n",
    "ax1.set_xlabel('Risk')\n",
    "ax1.set_ylabel(\"Returns\")\n",
    "ax1.set_title(\"Portfolio optimization and Efficient Frontier\")\n",
    "plt.scatter(port_risk, port_returns)\n",
    "plt.show()"
   ]
  },
  {
   "cell_type": "code",
   "execution_count": 32,
   "metadata": {},
   "outputs": [
    {
     "name": "stdout",
     "output_type": "stream",
     "text": [
      "{'type': 'eq', 'fun': <function <lambda> at 0x000000001024F048>} \n",
      "      fun: 0.34550546629783696\n",
      "     jac: array([0.69118827, 0.69115803, 0.69099351, 0.69100006])\n",
      " message: 'Optimization terminated successfully.'\n",
      "    nfev: 37\n",
      "     nit: 6\n",
      "    njev: 6\n",
      "  status: 0\n",
      " success: True\n",
      "       x: array([-0.03070347,  0.11227772,  0.16431882,  0.75410693]) \n",
      " [-0.03070347  0.11227772  0.16431882  0.75410693] \n",
      " [[0.08661015]] \n",
      " [[0.34550547]]\n"
     ]
    }
   ],
   "source": [
    "#7.7.1 Minimum Variance Portfolio\n",
    "from __future__ import division\n",
    "import numpy as np\n",
    "from matplotlib import pyplot as plt\n",
    "from numpy.linalg import inv,pinv\n",
    "from scipy.optimize import minimize\n",
    "\n",
    "# USER INPUT\n",
    "V = np.matrix('123 37.5 70 30; 37.5 122 72 13.5; 70 72 321 -32; 30 13.5 -32 52')/100  # covariance\n",
    "R = np.matrix('14; 12; 15; 7')/100\n",
    "rf = 3/100\n",
    "\n",
    "w0= [0.25,0.25,0.25,0.25]\n",
    "# min var optimization\n",
    "def calculate_portfolio_var(w,V):\n",
    "    w = np.matrix(w)\n",
    "    return (w*V*w.T)[0,0]\n",
    "\n",
    "# unconstrained portfolio (only sum(w) = 1 )\n",
    "cons = ({'type': 'eq', 'fun': lambda x:  np.sum(x)-1.0})\n",
    "res= minimize(calculate_portfolio_var, w0, args=V, method='SLSQP',constraints=cons)\n",
    "w_g = res.x\n",
    "mu_g = w_g*R\n",
    "var_g = np.dot(w_g*V,w_g)\n",
    "print(cons,'\\n',res,'\\n',w_g,'\\n',mu_g,'\\n',var_g)"
   ]
  }
 ],
 "metadata": {
  "kernelspec": {
   "display_name": "Python 3",
   "language": "python",
   "name": "python3"
  },
  "language_info": {
   "codemirror_mode": {
    "name": "ipython",
    "version": 3
   },
   "file_extension": ".py",
   "mimetype": "text/x-python",
   "name": "python",
   "nbconvert_exporter": "python",
   "pygments_lexer": "ipython3",
   "version": "3.7.3"
  }
 },
 "nbformat": 4,
 "nbformat_minor": 2
}
